{
  "nbformat": 4,
  "nbformat_minor": 0,
  "metadata": {
    "colab": {
      "name": "Spotify Project Part 1.ipynb",
      "provenance": [],
      "collapsed_sections": [],
      "include_colab_link": true
    },
    "kernelspec": {
      "name": "python3",
      "display_name": "Python 3"
    },
    "language_info": {
      "name": "python"
    }
  },
  "cells": [
    {
      "cell_type": "markdown",
      "metadata": {
        "id": "view-in-github",
        "colab_type": "text"
      },
      "source": [
        "<a href=\"https://colab.research.google.com/github/ChilliCreek/Comp-prep-old/blob/master/Spotify_Project_Part_1.ipynb\" target=\"_parent\"><img src=\"https://colab.research.google.com/assets/colab-badge.svg\" alt=\"Open In Colab\"/></a>"
      ]
    },
    {
      "cell_type": "markdown",
      "metadata": {
        "id": "tJEnUIOFIZXy"
      },
      "source": [
        "# Spotify Project Part 1"
      ]
    },
    {
      "cell_type": "markdown",
      "metadata": {
        "id": "A-11T1F9Ihjs"
      },
      "source": [
        "## Connecting to the API"
      ]
    },
    {
      "cell_type": "code",
      "metadata": {
        "id": "xKgIRW2lOdg5"
      },
      "source": [
        "!pip install spotipy"
      ],
      "execution_count": null,
      "outputs": []
    },
    {
      "cell_type": "code",
      "metadata": {
        "id": "x0_VhCQBIkXN"
      },
      "source": [
        "import spotipy\n",
        "from spotipy.oauth2 import SpotifyClientCredentials\n",
        "import pandas as pd\n",
        "from IPython.display import clear_output\n",
        "\n",
        "%matplotlib inline\n",
        "\n",
        "CLIENT_ID = ''\n",
        "CLIENT_SECRET = ''\n",
        "\n",
        "sp = spotipy.Spotify(auth_manager=SpotifyClientCredentials(client_id=CLIENT_ID, client_secret=CLIENT_SECRET))"
      ],
      "execution_count": null,
      "outputs": []
    },
    {
      "cell_type": "markdown",
      "metadata": {
        "id": "TkDA8F0XO-cs"
      },
      "source": [
        "## Retrieval examples"
      ]
    },
    {
      "cell_type": "code",
      "metadata": {
        "id": "PPAnZh1qPDaQ"
      },
      "source": [
        "# Get playlists related to a search term\n",
        "\n",
        "total = 50\n",
        "limit = total\n",
        "offset = 0\n",
        "\n",
        "playlist_ids = []\n",
        "while len(playlist_ids) < total:\n",
        "    lists = sp.search(q='dreampop', type='playlist', limit=limit, offset=offset)['playlists']['items']\n",
        "    for playlist in lists:\n",
        "        playlist_ids.append(playlist['id'])\n",
        "    offset += 50\n",
        "playlist_ids = playlist_ids[:100]\n",
        "print('Playlists:', len(playlist_ids))"
      ],
      "execution_count": null,
      "outputs": []
    },
    {
      "cell_type": "code",
      "metadata": {
        "id": "OUg-8yewPgel"
      },
      "source": [
        "# Get tracks from a list of playlists\n",
        "\n",
        "# Get tracks from a playlist\n",
        "def get_track_names_ids(playlist):\n",
        "    all_tracks = []\n",
        "    for off in range(0, 3001, 100):\n",
        "        tracks = sp.playlist_tracks(playlist, limit=100, offset=off)['items']\n",
        "        for track in tracks:\n",
        "            if track['track'] is not None:\n",
        "                all_tracks.append((track['track']['id'], track['track']['name'], track['track']['artists'][0]['name'], 'dreampop'))\n",
        "    return all_tracks\n",
        "\n",
        "track_data = []\n",
        "for i, playlist in enumerate(playlist_ids):\n",
        "    clear_output(wait=True)\n",
        "    print(\"Processing playlist:\", i)\n",
        "    for id, name, artist, genre in get_track_names_ids(playlist):\n",
        "        track_data.append((id, name, artist, genre))\n",
        "clear_output(wait=True)\n",
        "\n",
        "track_dict = {}\n",
        "for track in track_data:\n",
        "    if track not in track_dict:\n",
        "        track_dict[track] = 0\n",
        "    track_dict[track] += 1\n",
        "\n",
        "print('Tracks:', len(list(track_dict.items())))"
      ],
      "execution_count": null,
      "outputs": []
    },
    {
      "cell_type": "code",
      "metadata": {
        "id": "1x8TuO4AP9HX"
      },
      "source": [
        "# Get audio features from a list of tracks\n",
        "\n",
        "def chunks(lst, n):\n",
        "    \"\"\"Yield successive n-sized chunks from lst.\"\"\"\n",
        "    for i in range(0, len(lst), n):\n",
        "        yield lst[i:i + n]\n",
        "\n",
        "track_chunks = list(chunks(track_data, 100))\n",
        "audio_features = []\n",
        "for c in track_chunks:\n",
        "    c = [track for track in c if track[0] is not None]\n",
        "    c_ids = [track[0] for track in c]\n",
        "    c_names = [track[1] for track in c]\n",
        "    c_artists = [track[2] for track in c]\n",
        "    c_genres = [track[3] for track in c]\n",
        "    c_audio_features = sp.audio_features(tracks=c_ids)\n",
        "    for i, _ in enumerate(c_audio_features):\n",
        "        if c_audio_features[i] == None:\n",
        "            continue\n",
        "        c_audio_features[i]['name'] = c_names[i]\n",
        "        c_audio_features[i]['artist'] = c_artists[i]\n",
        "        c_audio_features[i]['genre'] = c_genres[i]\n",
        "    audio_features += c_audio_features\n",
        "\n",
        "audio_features = [f for f in audio_features if f is not None]\n",
        "print('Audio Features:', len(audio_features))"
      ],
      "execution_count": null,
      "outputs": []
    },
    {
      "cell_type": "code",
      "metadata": {
        "id": "_7jHNBrxT6O_"
      },
      "source": [
        "# Save to CSV\n",
        "\n",
        "track_df = pd.DataFrame(audio_features)\n",
        "track_df.to_csv('../data/filename.csv')\n",
        "track_df"
      ],
      "execution_count": null,
      "outputs": []
    }
  ]
}